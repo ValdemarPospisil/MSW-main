{
 "cells": [
  {
   "cell_type": "code",
   "execution_count": 1,
   "metadata": {},
   "outputs": [
    {
     "name": "stdout",
     "output_type": "stream",
     "text": [
      "Odhadnutý objem čtyřrozměrné koule: 4.922144\n"
     ]
    }
   ],
   "source": [
    "import numpy as np\n",
    "\n",
    "# Funkce, která určuje, zda bod leží uvnitř čtyřrozměrné koule\n",
    "def is_inside_hyperball(point):\n",
    "    return np.sum(point**2) <= 1\n",
    "\n",
    "# Monte Carlo metoda pro výpočet objemu hyperkoule\n",
    "def monte_carlo_hyperball(num_samples):\n",
    "    inside_points = 0\n",
    "    \n",
    "    for _ in range(num_samples):\n",
    "        # Náhodný bod v hyperkrychli [-1, 1]^4\n",
    "        point = np.random.uniform(-1, 1, 4)\n",
    "        \n",
    "        # Zkontrolujeme, jestli bod leží uvnitř koule\n",
    "        if is_inside_hyperball(point):\n",
    "            inside_points += 1\n",
    "    \n",
    "    # Objem hyperkrychle je 2^4 = 16, vypočítáme podíl bodů uvnitř koule\n",
    "    volume_hypercube = 16\n",
    "    volume_hyperball = volume_hypercube * (inside_points / num_samples)\n",
    "    \n",
    "    return volume_hyperball\n",
    "\n",
    "# Počet vzorků pro Monte Carlo simulaci\n",
    "num_samples = 1000000\n",
    "estimated_volume = monte_carlo_hyperball(num_samples)\n",
    "\n",
    "# Výsledek\n",
    "print(f\"Odhadnutý objem čtyřrozměrné koule: {estimated_volume}\")\n"
   ]
  }
 ],
 "metadata": {
  "kernelspec": {
   "display_name": "Python 3",
   "language": "python",
   "name": "python3"
  },
  "language_info": {
   "codemirror_mode": {
    "name": "ipython",
    "version": 3
   },
   "file_extension": ".py",
   "mimetype": "text/x-python",
   "name": "python",
   "nbconvert_exporter": "python",
   "pygments_lexer": "ipython3",
   "version": "3.10.11"
  }
 },
 "nbformat": 4,
 "nbformat_minor": 2
}
