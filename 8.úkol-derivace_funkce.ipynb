{
 "cells": [
  {
   "cell_type": "code",
   "execution_count": 1,
   "metadata": {},
   "outputs": [
    {
     "name": "stdout",
     "output_type": "stream",
     "text": [
      "Pro x = 0:\n",
      "  Statická derivace: 0.9999999999833332\n",
      "  Adaptabilní derivace: 0.9999999999958332\n",
      "  Analytická derivace: 1.0\n",
      "\n",
      "Pro x = 0.5235987755982988:\n",
      "  Statická derivace: 0.8660254037645697\n",
      "  Adaptabilní derivace: 0.8660254037839986\n",
      "  Analytická derivace: 0.8660254037844387\n",
      "\n",
      "Pro x = 0.7853981633974483:\n",
      "  Statická derivace: 0.7071067811725839\n",
      "  Adaptabilní derivace: 0.7071067811836861\n",
      "  Analytická derivace: 0.7071067811865476\n",
      "\n",
      "Pro x = 1.0471975511965976:\n",
      "  Statická derivace: 0.4999999999921733\n",
      "  Adaptabilní derivace: 0.5000000000032756\n",
      "  Analytická derivace: 0.5000000000000001\n",
      "\n",
      "Pro x = 1.5707963267948966:\n",
      "  Statická derivace: 0.0\n",
      "  Adaptabilní derivace: 0.0\n",
      "  Analytická derivace: 6.123233995736766e-17\n",
      "\n"
     ]
    }
   ],
   "source": [
    "import numpy as np\n",
    "\n",
    "# Definujeme funkci a její analytickou derivaci\n",
    "def func(x):\n",
    "    return np.sin(x)\n",
    "\n",
    "def analytic_derivative(x):\n",
    "    return np.cos(x)\n",
    "\n",
    "# Numerická derivace pomocí centrální diference se statickým krokem\n",
    "def static_step_derivative(f, x, h=1e-5):\n",
    "    return (f(x + h) - f(x - h)) / (2 * h)\n",
    "\n",
    "# Numerická derivace s adaptabilním krokem\n",
    "def adaptive_step_derivative(f, x, h_init=1e-5, tolerance=1e-6):\n",
    "    h = h_init\n",
    "    diff_old = (f(x + h) - f(x - h)) / (2 * h)\n",
    "    \n",
    "    while True:\n",
    "        h /= 2  # Zmenšíme krok\n",
    "        diff_new = (f(x + h) - f(x - h)) / (2 * h)\n",
    "        \n",
    "        # Podmínka pro zastavení - pokud je rozdíl menší než tolerance\n",
    "        if np.abs(diff_new - diff_old) < tolerance:\n",
    "            return diff_new\n",
    "        diff_old = diff_new\n",
    "\n",
    "# Porovnání numerické a analytické derivace\n",
    "def compare_derivatives(x):\n",
    "    h_static = 1e-5  # Statický krok\n",
    "    static_deriv = static_step_derivative(func, x, h_static)\n",
    "    adaptive_deriv = adaptive_step_derivative(func, x)\n",
    "    exact_deriv = analytic_derivative(x)\n",
    "    \n",
    "    print(f\"Pro x = {x}:\")\n",
    "    print(f\"  Statická derivace: {static_deriv}\")\n",
    "    print(f\"  Adaptabilní derivace: {adaptive_deriv}\")\n",
    "    print(f\"  Analytická derivace: {exact_deriv}\\n\")\n",
    "\n",
    "# Výpočet derivace pro různé hodnoty x\n",
    "x_values = [0, np.pi/6, np.pi/4, np.pi/3, np.pi/2]\n",
    "\n",
    "for x in x_values:\n",
    "    compare_derivatives(x)\n"
   ]
  }
 ],
 "metadata": {
  "kernelspec": {
   "display_name": "Python 3",
   "language": "python",
   "name": "python3"
  },
  "language_info": {
   "codemirror_mode": {
    "name": "ipython",
    "version": 3
   },
   "file_extension": ".py",
   "mimetype": "text/x-python",
   "name": "python",
   "nbconvert_exporter": "python",
   "pygments_lexer": "ipython3",
   "version": "3.10.11"
  }
 },
 "nbformat": 4,
 "nbformat_minor": 2
}
