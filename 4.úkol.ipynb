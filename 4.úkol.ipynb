{
 "cells": [
  {
   "cell_type": "code",
   "execution_count": 2,
   "metadata": {},
   "outputs": [
    {
     "name": "stdout",
     "output_type": "stream",
     "text": [
      "Funkce: Polynomiální\n",
      "  Bisection metoda - Kořen: 2.0, Čas: 0.0\n",
      "  Newtonova metoda - Kořen: 2.0, Čas: 0.0011682510375976562\n",
      "\n",
      "Funkce: Exponenciální\n",
      "  Bisection metoda - Kořen: 0.6931467056274414, Čas: 0.0\n",
      "  Newtonova metoda - Kořen: 0.693147180586199, Čas: 0.0\n",
      "\n",
      "Funkce: Harmonická\n",
      "  Bisection metoda - Kořen: 0.5235986709594727, Čas: 0.0\n",
      "  Newtonova metoda - Kořen: 0.5235987755983077, Čas: 0.0010068416595458984\n",
      "\n"
     ]
    }
   ],
   "source": [
    "import numpy as np\n",
    "import time\n",
    "from scipy import optimize\n",
    "\n",
    "# Definice funkcí\n",
    "def poly_func(x):\n",
    "    return x**3 - 6*x**2 + 11*x - 6\n",
    "\n",
    "def exp_func(x):\n",
    "    return np.exp(x) - 2\n",
    "\n",
    "def harmonic_func(x):\n",
    "    return np.sin(x) - 0.5\n",
    "\n",
    "# Ohraničená metoda: Bisection\n",
    "def bisection_method(func, a, b, tol=1e-6):\n",
    "    start = time.time()\n",
    "    root = optimize.bisect(func, a, b, xtol=tol)\n",
    "    duration = time.time() - start\n",
    "    return root, duration\n",
    "\n",
    "# Neohraničená metoda: Newton-Raphson\n",
    "def newton_method(func, x0, tol=1e-6):\n",
    "    start = time.time()\n",
    "    root = optimize.newton(func, x0, tol=tol)\n",
    "    duration = time.time() - start\n",
    "    return root, duration\n",
    "\n",
    "# Výpočet pro různé funkce\n",
    "def compute_roots():\n",
    "    results = []\n",
    "\n",
    "    # Polynomiální funkce\n",
    "    bisection_root_poly, time_bis_poly = bisection_method(poly_func, 0, 4)\n",
    "    newton_root_poly, time_newt_poly = newton_method(poly_func, 2)\n",
    "\n",
    "    # Exponenciální funkce\n",
    "    bisection_root_exp, time_bis_exp = bisection_method(exp_func, 0, 2)\n",
    "    newton_root_exp, time_newt_exp = newton_method(exp_func, 1)\n",
    "\n",
    "    # Harmonická funkce\n",
    "    bisection_root_harmonic, time_bis_harmonic = bisection_method(harmonic_func, 0, 2)\n",
    "    newton_root_harmonic, time_newt_harmonic = newton_method(harmonic_func, 1)\n",
    "\n",
    "    # Uložení výsledků\n",
    "    results.append((\"Polynomiální\", bisection_root_poly, time_bis_poly, newton_root_poly, time_newt_poly))\n",
    "    results.append((\"Exponenciální\", bisection_root_exp, time_bis_exp, newton_root_exp, time_newt_exp))\n",
    "    results.append((\"Harmonická\", bisection_root_harmonic, time_bis_harmonic, newton_root_harmonic, time_newt_harmonic))\n",
    "\n",
    "    return results\n",
    "\n",
    "# Výpis výsledků\n",
    "for func_name, bisection_root, bisection_time, newton_root, newton_time in compute_roots():\n",
    "    print(f\"Funkce: {func_name}\")\n",
    "    print(f\"  Bisection metoda - Kořen: {bisection_root}, Čas: {bisection_time}\")\n",
    "    print(f\"  Newtonova metoda - Kořen: {newton_root}, Čas: {newton_time}\\n\")\n"
   ]
  }
 ],
 "metadata": {
  "kernelspec": {
   "display_name": "Python 3",
   "language": "python",
   "name": "python3"
  },
  "language_info": {
   "codemirror_mode": {
    "name": "ipython",
    "version": 3
   },
   "file_extension": ".py",
   "mimetype": "text/x-python",
   "name": "python",
   "nbconvert_exporter": "python",
   "pygments_lexer": "ipython3",
   "version": "3.10.11"
  }
 },
 "nbformat": 4,
 "nbformat_minor": 2
}
