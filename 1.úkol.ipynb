{
 "cells": [
  {
   "cell_type": "markdown",
   "metadata": {},
   "source": [
    "## 1. úloha - Skalární součin vektorů:"
   ]
  },
  {
   "cell_type": "markdown",
   "metadata": {},
   "source": [
    "#### Čistý Python:"
   ]
  },
  {
   "cell_type": "code",
   "execution_count": 1,
   "metadata": {},
   "outputs": [
    {
     "name": "stdout",
     "output_type": "stream",
     "text": [
      "Výsledek v čistém Pythonu: 833323333350000 Čas: 0.029113292694091797\n"
     ]
    }
   ],
   "source": [
    "import time\n",
    "\n",
    "def skalarni_soucin_cisty_python(v1, v2):\n",
    "    return sum(x * y for x, y in zip(v1, v2))\n",
    "\n",
    "# Vektory\n",
    "vektor1 = [i for i in range(100000)]\n",
    "vektor2 = [i for i in range(100000, 200000)]\n",
    "\n",
    "zacatek_casu = time.time()\n",
    "vysledek = skalarni_soucin_cisty_python(vektor1, vektor2)\n",
    "konec_casu = time.time()\n",
    "\n",
    "print(\"Výsledek v čistém Pythonu:\", vysledek, \"Čas:\", konec_casu - zacatek_casu)\n"
   ]
  },
  {
   "cell_type": "markdown",
   "metadata": {},
   "source": [
    "#### Numpy:"
   ]
  },
  {
   "cell_type": "code",
   "execution_count": 2,
   "metadata": {},
   "outputs": [
    {
     "name": "stdout",
     "output_type": "stream",
     "text": [
      "Numpy výsledek: 833323333350000 Čas: 0.0012657642364501953\n"
     ]
    }
   ],
   "source": [
    "import numpy as np\n",
    "import time\n",
    "\n",
    "vektor1_np = np.array(vektor1)\n",
    "vektor2_np = np.array(vektor2)\n",
    "\n",
    "zacatek_casu = time.time()\n",
    "vysledek_np = np.dot(vektor1_np, vektor2_np)\n",
    "konec_casu = time.time()\n",
    "\n",
    "print(\"Numpy výsledek:\", vysledek_np, \"Čas:\", konec_casu - zacatek_casu)\n"
   ]
  },
  {
   "cell_type": "markdown",
   "metadata": {},
   "source": [
    "#### Numba"
   ]
  },
  {
   "cell_type": "code",
   "execution_count": 6,
   "metadata": {},
   "outputs": [
    {
     "name": "stdout",
     "output_type": "stream",
     "text": [
      "Numba výsledek: 833323333350000 Čas: 0.7013397216796875\n"
     ]
    }
   ],
   "source": [
    "from numba import jit\n",
    "import time\n",
    "\n",
    "@jit(nopython=True)\n",
    "def skalarni_soucin_numba(v1, v2):\n",
    "    soucet = 0\n",
    "    for i in range(len(v1)):\n",
    "        soucet += v1[i] * v2[i]\n",
    "    return soucet\n",
    "\n",
    "zacatek_casu = time.time()\n",
    "vysledek_numba = skalarni_soucin_numba(vektor1, vektor2)\n",
    "konec_casu = time.time()\n",
    "\n",
    "print(\"Numba výsledek:\", vysledek_numba, \"Čas:\", konec_casu - zacatek_casu)\n"
   ]
  },
  {
   "cell_type": "markdown",
   "metadata": {},
   "source": [
    "## 2. úloha - Numerický výpočet integrálu"
   ]
  },
  {
   "cell_type": "markdown",
   "metadata": {},
   "source": [
    "#### Čistý Python:"
   ]
  },
  {
   "cell_type": "code",
   "execution_count": 9,
   "metadata": {},
   "outputs": [
    {
     "name": "stdout",
     "output_type": "stream",
     "text": [
      "Čistý Python výsledek: 0.3333333333499996 Čas: 0.07798600196838379\n"
     ]
    }
   ],
   "source": [
    "import time\n",
    "\n",
    "def lichobeznikova_metoda(f, a, b, n):\n",
    "    dx = (b - a) / n\n",
    "    total = 0.5 * (f(a) + f(b))\n",
    "    for i in range(1, n):\n",
    "        total += f(a + i * dx)\n",
    "    return total * dx\n",
    "\n",
    "# Integrovaná funkce\n",
    "def funkce(x):\n",
    "    return x**2\n",
    "\n",
    "# Meze integrace a počet dílků\n",
    "a = 0\n",
    "b = 1\n",
    "n = 100000\n",
    "\n",
    "zacatek_casu = time.time()\n",
    "vysledek = lichobeznikova_metoda(funkce, a, b, n)\n",
    "konec_casu = time.time()\n",
    "\n",
    "print(\"Čistý Python výsledek:\", vysledek, \"Čas:\", konec_casu - zacatek_casu)\n"
   ]
  },
  {
   "cell_type": "markdown",
   "metadata": {},
   "source": [
    "#### Numpy: "
   ]
  },
  {
   "cell_type": "code",
   "execution_count": 27,
   "metadata": {},
   "outputs": [
    {
     "name": "stdout",
     "output_type": "stream",
     "text": [
      "Numpy výsledek: 0.3333333333500003 Čas: 0.00480198860168457\n"
     ]
    }
   ],
   "source": [
    "import numpy as np\n",
    "import time\n",
    "\n",
    "# Integrovaná funkce\n",
    "def funkce(x):\n",
    "    return x**2\n",
    "\n",
    "# Meze integrace\n",
    "a = 0\n",
    "b = 1\n",
    "n = 100000\n",
    "\n",
    "# Vytvoření rovnoměrně rozložených bodů\n",
    "x = np.linspace(a, b, n)\n",
    "y = funkce(x)\n",
    "\n",
    "zacatek_casu = time.time()\n",
    "vysledek_numpy = np.trapz(y, x)\n",
    "konec_casu = time.time()\n",
    "\n",
    "print(\"Numpy výsledek:\", vysledek_numpy, \"Čas:\", konec_casu - zacatek_casu)\n"
   ]
  },
  {
   "cell_type": "markdown",
   "metadata": {},
   "source": [
    "#### Scipy:"
   ]
  },
  {
   "cell_type": "code",
   "execution_count": 28,
   "metadata": {},
   "outputs": [
    {
     "name": "stdout",
     "output_type": "stream",
     "text": [
      "Scipy výsledek: 0.33333333333333337 Čas: 0.0018401145935058594\n"
     ]
    }
   ],
   "source": [
    "import scipy.integrate\n",
    "import time\n",
    "\n",
    "zacatek_casu = time.time()\n",
    "vysledek_scipy, _ = scipy.integrate.quad(funkce, a, b)\n",
    "konec_casu = time.time()\n",
    "\n",
    "print(\"Scipy výsledek:\", vysledek_scipy, \"Čas:\", konec_casu - zacatek_casu)\n"
   ]
  },
  {
   "cell_type": "markdown",
   "metadata": {},
   "source": [
    "## 3. úloha - Výpočet součtu čísel v seznamu"
   ]
  },
  {
   "cell_type": "markdown",
   "metadata": {},
   "source": [
    "#### Čistý Python:"
   ]
  },
  {
   "cell_type": "code",
   "execution_count": 12,
   "metadata": {},
   "outputs": [
    {
     "name": "stdout",
     "output_type": "stream",
     "text": [
      "Čistý Python součet: 499999500000 Čas: 0.03274250030517578\n"
     ]
    }
   ],
   "source": [
    "import time\n",
    "\n",
    "def soucet_seznamu(seznam):\n",
    "    return sum(seznam)\n",
    "\n",
    "# Seznam čísel pro výpočet\n",
    "seznam_cisel = list(range(1000000))  # Seznam čísel od 0 do 999999\n",
    "\n",
    "zacatek_casu = time.time()\n",
    "vysledek = soucet_seznamu(seznam_cisel)\n",
    "konec_casu = time.time()\n",
    "\n",
    "print(\"Čistý Python součet:\", vysledek, \"Čas:\", konec_casu - zacatek_casu)\n"
   ]
  },
  {
   "cell_type": "markdown",
   "metadata": {},
   "source": [
    "#### Numpy:"
   ]
  },
  {
   "cell_type": "code",
   "execution_count": 16,
   "metadata": {},
   "outputs": [
    {
     "name": "stdout",
     "output_type": "stream",
     "text": [
      "Numpy součet: 499999500000 Čas: 0.0010006427764892578\n"
     ]
    }
   ],
   "source": [
    "import numpy as np\n",
    "import time\n",
    "\n",
    "def soucet_numpy(pole):\n",
    "    return np.sum(pole)\n",
    "\n",
    "# Seznam čísel pro výpočet, převeden na numpy pole\n",
    "pole_cisel = np.arange(1000000, dtype=np.int64) \n",
    "\n",
    "zacatek_casu = time.time()\n",
    "vysledek_numpy = soucet_numpy(pole_cisel)\n",
    "konec_casu = time.time()\n",
    "\n",
    "print(\"Numpy součet:\", vysledek_numpy, \"Čas:\", konec_casu - zacatek_casu)\n"
   ]
  },
  {
   "cell_type": "markdown",
   "metadata": {},
   "source": [
    "## 4. úloha - Výpočet korelačního koeficientu"
   ]
  },
  {
   "cell_type": "markdown",
   "metadata": {},
   "source": [
    "#### Čistý Python:"
   ]
  },
  {
   "cell_type": "code",
   "execution_count": 3,
   "metadata": {},
   "outputs": [
    {
     "name": "stdout",
     "output_type": "stream",
     "text": [
      "Čistý Python Korelace : 1.0 Čas: 0.00022149085998535156\n"
     ]
    }
   ],
   "source": [
    "import math\n",
    "import time\n",
    "\n",
    "def prumer(data):\n",
    "    return sum(data) / len(data)\n",
    "\n",
    "def smerodatna_odchylka(data):\n",
    "    p = prumer(data)\n",
    "    variance = sum((x - p) ** 2 for x in data) / len(data)\n",
    "    return math.sqrt(variance)\n",
    "\n",
    "def korelace(x, y):\n",
    "    prumer_x = prumer(x)\n",
    "    prumer_y = prumer(y)\n",
    "    smerodatna_odchylka_x = smerodatna_odchylka(x)\n",
    "    smerodatna_odchylka_y = smerodatna_odchylka(y)\n",
    "    \n",
    "    korelacni_soucet = sum((x_i - prumer_x) * (y_i - prumer_y) for x_i, y_i in zip(x, y))\n",
    "    \n",
    "    return korelacni_soucet / (len(x) * smerodatna_odchylka_x * smerodatna_odchylka_y)\n",
    "\n",
    "# Data\n",
    "x = [i for i in range(10)]\n",
    "y = [2 * i for i in range(10)]\n",
    "\n",
    "zacatek_casu = time.time()\n",
    "vysledek_korelace = korelace(x, y)\n",
    "konec_casu = time.time()\n",
    "\n",
    "print(\"Čistý Python Korelace :\", vysledek_korelace, \"Čas:\", konec_casu - zacatek_casu)\n"
   ]
  },
  {
   "cell_type": "markdown",
   "metadata": {},
   "source": [
    "#### Numpy:"
   ]
  },
  {
   "cell_type": "code",
   "execution_count": 4,
   "metadata": {},
   "outputs": [
    {
     "name": "stdout",
     "output_type": "stream",
     "text": [
      "Korelace Numpy: 0.9999999999999999 Čas: 0.04733085632324219\n"
     ]
    }
   ],
   "source": [
    "import numpy as np\n",
    "import time\n",
    "\n",
    "x_np = np.array(x)\n",
    "y_np = np.array(y)\n",
    "\n",
    "zacatek_casu = time.time()\n",
    "korelacni_matice = np.corrcoef(x_np, y_np)\n",
    "vysledek_korelace_np = korelacni_matice[0, 1]\n",
    "konec_casu = time.time()\n",
    "\n",
    "print(\"Korelace Numpy:\", vysledek_korelace_np, \"Čas:\", konec_casu - zacatek_casu)\n"
   ]
  },
  {
   "cell_type": "markdown",
   "metadata": {},
   "source": [
    "## 5.úloha - Výpočet faktoriálu"
   ]
  },
  {
   "cell_type": "markdown",
   "metadata": {},
   "source": [
    "#### Čistý Python:"
   ]
  },
  {
   "cell_type": "code",
   "execution_count": 5,
   "metadata": {},
   "outputs": [
    {
     "name": "stdout",
     "output_type": "stream",
     "text": [
      "Čistý Python faktoriál: 2432902008176640000 Čas: 0.0002944469451904297\n"
     ]
    }
   ],
   "source": [
    "import time\n",
    "\n",
    "def faktorial(n):\n",
    "    if n == 0:\n",
    "        return 1\n",
    "    else:\n",
    "        vysledek = 1\n",
    "        for i in range(2, n+1):\n",
    "            vysledek *= i\n",
    "        return vysledek\n",
    "\n",
    "\n",
    "n = 20\n",
    "\n",
    "zacatek_casu = time.time()\n",
    "vysledek = faktorial(n)\n",
    "konec_casu = time.time()\n",
    "\n",
    "print(\"Čistý Python faktoriál:\", vysledek, \"Čas:\", konec_casu - zacatek_casu)\n"
   ]
  },
  {
   "cell_type": "markdown",
   "metadata": {},
   "source": [
    "#### Numpy:"
   ]
  },
  {
   "cell_type": "code",
   "execution_count": 18,
   "metadata": {},
   "outputs": [
    {
     "name": "stdout",
     "output_type": "stream",
     "text": [
      "Numpy faktoriál: 2432902008176640000 Čas: 0.24797964096069336\n"
     ]
    }
   ],
   "source": [
    "import numpy as np\n",
    "import time\n",
    "\n",
    "def faktorial_numpy(n):\n",
    "    if n == 0:\n",
    "        return 1\n",
    "    else:\n",
    "        return np.prod(np.arange(1, n+1))\n",
    "\n",
    "\n",
    "n = 20\n",
    "\n",
    "zacatek_casu = time.time()\n",
    "vysledek_numpy = faktorial_numpy(n)\n",
    "konec_casu = time.time()\n",
    "\n",
    "print(\"Numpy faktoriál:\", vysledek_numpy, \"Čas:\", konec_casu - zacatek_casu)\n"
   ]
  },
  {
   "cell_type": "markdown",
   "metadata": {},
   "source": [
    "#### Numba:"
   ]
  },
  {
   "cell_type": "code",
   "execution_count": 19,
   "metadata": {},
   "outputs": [
    {
     "name": "stdout",
     "output_type": "stream",
     "text": [
      "Numba faktoriál: 2432902008176640000 Čas: 1.4991068840026855\n"
     ]
    }
   ],
   "source": [
    "from numba import jit\n",
    "import time\n",
    "\n",
    "@jit(nopython=True)\n",
    "def faktorial_numba(n):\n",
    "    if n == 0:\n",
    "        return 1\n",
    "    else:\n",
    "        vysledek = 1\n",
    "        for i in range(2, n+1):\n",
    "            vysledek *= i\n",
    "        return vysledek\n",
    "\n",
    "zacatek_casu = time.time()\n",
    "vysledek_numba = faktorial_numba(n)\n",
    "konec_casu = time.time()\n",
    "\n",
    "print(\"Numba faktoriál:\", vysledek_numba, \"Čas:\", konec_casu - zacatek_casu)\n"
   ]
  },
  {
   "cell_type": "code",
   "execution_count": null,
   "metadata": {},
   "outputs": [],
   "source": []
  }
 ],
 "metadata": {
  "kernelspec": {
   "display_name": "Python 3",
   "language": "python",
   "name": "python3"
  },
  "language_info": {
   "codemirror_mode": {
    "name": "ipython",
    "version": 3
   },
   "file_extension": ".py",
   "mimetype": "text/x-python",
   "name": "python",
   "nbconvert_exporter": "python",
   "pygments_lexer": "ipython3",
   "version": "3.10.12"
  }
 },
 "nbformat": 4,
 "nbformat_minor": 2
}
